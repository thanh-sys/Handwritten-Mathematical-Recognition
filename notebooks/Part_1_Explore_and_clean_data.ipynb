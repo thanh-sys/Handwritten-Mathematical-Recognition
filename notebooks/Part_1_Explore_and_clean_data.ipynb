{
  "cells": [
    {
      "cell_type": "code",
      "execution_count": null,
      "metadata": {
        "colab": {
          "base_uri": "https://localhost:8080/",
          "height": 71
        },
        "collapsed": true,
        "id": "NFbsOY3khsxi",
        "outputId": "ecb0e42e-d204-4686-8486-6d25538c830a"
      },
      "outputs": [
        {
          "data": {
            "text/html": [
              "\n",
              "     <input type=\"file\" id=\"files-2d0d7718-db62-458d-b06b-006b4f58fe44\" name=\"files[]\" multiple disabled\n",
              "        style=\"border:none\" />\n",
              "     <output id=\"result-2d0d7718-db62-458d-b06b-006b4f58fe44\">\n",
              "      Upload widget is only available when the cell has been executed in the\n",
              "      current browser session. Please rerun this cell to enable.\n",
              "      </output>\n",
              "      <script>// Copyright 2017 Google LLC\n",
              "//\n",
              "// Licensed under the Apache License, Version 2.0 (the \"License\");\n",
              "// you may not use this file except in compliance with the License.\n",
              "// You may obtain a copy of the License at\n",
              "//\n",
              "//      http://www.apache.org/licenses/LICENSE-2.0\n",
              "//\n",
              "// Unless required by applicable law or agreed to in writing, software\n",
              "// distributed under the License is distributed on an \"AS IS\" BASIS,\n",
              "// WITHOUT WARRANTIES OR CONDITIONS OF ANY KIND, either express or implied.\n",
              "// See the License for the specific language governing permissions and\n",
              "// limitations under the License.\n",
              "\n",
              "/**\n",
              " * @fileoverview Helpers for google.colab Python module.\n",
              " */\n",
              "(function(scope) {\n",
              "function span(text, styleAttributes = {}) {\n",
              "  const element = document.createElement('span');\n",
              "  element.textContent = text;\n",
              "  for (const key of Object.keys(styleAttributes)) {\n",
              "    element.style[key] = styleAttributes[key];\n",
              "  }\n",
              "  return element;\n",
              "}\n",
              "\n",
              "// Max number of bytes which will be uploaded at a time.\n",
              "const MAX_PAYLOAD_SIZE = 100 * 1024;\n",
              "\n",
              "function _uploadFiles(inputId, outputId) {\n",
              "  const steps = uploadFilesStep(inputId, outputId);\n",
              "  const outputElement = document.getElementById(outputId);\n",
              "  // Cache steps on the outputElement to make it available for the next call\n",
              "  // to uploadFilesContinue from Python.\n",
              "  outputElement.steps = steps;\n",
              "\n",
              "  return _uploadFilesContinue(outputId);\n",
              "}\n",
              "\n",
              "// This is roughly an async generator (not supported in the browser yet),\n",
              "// where there are multiple asynchronous steps and the Python side is going\n",
              "// to poll for completion of each step.\n",
              "// This uses a Promise to block the python side on completion of each step,\n",
              "// then passes the result of the previous step as the input to the next step.\n",
              "function _uploadFilesContinue(outputId) {\n",
              "  const outputElement = document.getElementById(outputId);\n",
              "  const steps = outputElement.steps;\n",
              "\n",
              "  const next = steps.next(outputElement.lastPromiseValue);\n",
              "  return Promise.resolve(next.value.promise).then((value) => {\n",
              "    // Cache the last promise value to make it available to the next\n",
              "    // step of the generator.\n",
              "    outputElement.lastPromiseValue = value;\n",
              "    return next.value.response;\n",
              "  });\n",
              "}\n",
              "\n",
              "/**\n",
              " * Generator function which is called between each async step of the upload\n",
              " * process.\n",
              " * @param {string} inputId Element ID of the input file picker element.\n",
              " * @param {string} outputId Element ID of the output display.\n",
              " * @return {!Iterable<!Object>} Iterable of next steps.\n",
              " */\n",
              "function* uploadFilesStep(inputId, outputId) {\n",
              "  const inputElement = document.getElementById(inputId);\n",
              "  inputElement.disabled = false;\n",
              "\n",
              "  const outputElement = document.getElementById(outputId);\n",
              "  outputElement.innerHTML = '';\n",
              "\n",
              "  const pickedPromise = new Promise((resolve) => {\n",
              "    inputElement.addEventListener('change', (e) => {\n",
              "      resolve(e.target.files);\n",
              "    });\n",
              "  });\n",
              "\n",
              "  const cancel = document.createElement('button');\n",
              "  inputElement.parentElement.appendChild(cancel);\n",
              "  cancel.textContent = 'Cancel upload';\n",
              "  const cancelPromise = new Promise((resolve) => {\n",
              "    cancel.onclick = () => {\n",
              "      resolve(null);\n",
              "    };\n",
              "  });\n",
              "\n",
              "  // Wait for the user to pick the files.\n",
              "  const files = yield {\n",
              "    promise: Promise.race([pickedPromise, cancelPromise]),\n",
              "    response: {\n",
              "      action: 'starting',\n",
              "    }\n",
              "  };\n",
              "\n",
              "  cancel.remove();\n",
              "\n",
              "  // Disable the input element since further picks are not allowed.\n",
              "  inputElement.disabled = true;\n",
              "\n",
              "  if (!files) {\n",
              "    return {\n",
              "      response: {\n",
              "        action: 'complete',\n",
              "      }\n",
              "    };\n",
              "  }\n",
              "\n",
              "  for (const file of files) {\n",
              "    const li = document.createElement('li');\n",
              "    li.append(span(file.name, {fontWeight: 'bold'}));\n",
              "    li.append(span(\n",
              "        `(${file.type || 'n/a'}) - ${file.size} bytes, ` +\n",
              "        `last modified: ${\n",
              "            file.lastModifiedDate ? file.lastModifiedDate.toLocaleDateString() :\n",
              "                                    'n/a'} - `));\n",
              "    const percent = span('0% done');\n",
              "    li.appendChild(percent);\n",
              "\n",
              "    outputElement.appendChild(li);\n",
              "\n",
              "    const fileDataPromise = new Promise((resolve) => {\n",
              "      const reader = new FileReader();\n",
              "      reader.onload = (e) => {\n",
              "        resolve(e.target.result);\n",
              "      };\n",
              "      reader.readAsArrayBuffer(file);\n",
              "    });\n",
              "    // Wait for the data to be ready.\n",
              "    let fileData = yield {\n",
              "      promise: fileDataPromise,\n",
              "      response: {\n",
              "        action: 'continue',\n",
              "      }\n",
              "    };\n",
              "\n",
              "    // Use a chunked sending to avoid message size limits. See b/62115660.\n",
              "    let position = 0;\n",
              "    do {\n",
              "      const length = Math.min(fileData.byteLength - position, MAX_PAYLOAD_SIZE);\n",
              "      const chunk = new Uint8Array(fileData, position, length);\n",
              "      position += length;\n",
              "\n",
              "      const base64 = btoa(String.fromCharCode.apply(null, chunk));\n",
              "      yield {\n",
              "        response: {\n",
              "          action: 'append',\n",
              "          file: file.name,\n",
              "          data: base64,\n",
              "        },\n",
              "      };\n",
              "\n",
              "      let percentDone = fileData.byteLength === 0 ?\n",
              "          100 :\n",
              "          Math.round((position / fileData.byteLength) * 100);\n",
              "      percent.textContent = `${percentDone}% done`;\n",
              "\n",
              "    } while (position < fileData.byteLength);\n",
              "  }\n",
              "\n",
              "  // All done.\n",
              "  yield {\n",
              "    response: {\n",
              "      action: 'complete',\n",
              "    }\n",
              "  };\n",
              "}\n",
              "\n",
              "scope.google = scope.google || {};\n",
              "scope.google.colab = scope.google.colab || {};\n",
              "scope.google.colab._files = {\n",
              "  _uploadFiles,\n",
              "  _uploadFilesContinue,\n",
              "};\n",
              "})(self);\n",
              "</script> "
            ],
            "text/plain": [
              "<IPython.core.display.HTML object>"
            ]
          },
          "metadata": {},
          "output_type": "display_data"
        },
        {
          "name": "stdout",
          "output_type": "stream",
          "text": [
            "Saving data (2).zip to data (2).zip\n"
          ]
        }
      ],
      "source": [
        "from google.colab import files\n",
        "files.upload()"
      ]
    },
    {
      "cell_type": "code",
      "execution_count": null,
      "metadata": {
        "colab": {
          "base_uri": "https://localhost:8080/"
        },
        "collapsed": true,
        "id": "AvuHJdKQpg6-",
        "outputId": "b4a02d23-5db8-4809-f8f7-cb2152efee2f"
      },
      "outputs": [],
      "source": [
        "!unzip  data1_moi.zip"
      ]
    },
    {
      "cell_type": "code",
      "execution_count": null,
      "metadata": {
        "id": "2qpIL5O5pXF6"
      },
      "outputs": [],
      "source": [
        "from collections import defaultdict\n",
        "\n",
        "import matplotlib.pyplot as plt\n",
        "\n",
        "import hashlib\n",
        "\n",
        "from keras.models import model_from_json\n",
        "import numpy as np\n",
        "import cv2\n",
        "from PIL import Image\n",
        "from matplotlib import pyplot as plt\n",
        "%matplotlib inline\n",
        "import os\n",
        "from os import listdir\n",
        "from os.path import isfile, join\n",
        "import pandas as pd\n",
        "from sklearn.utils import shuffle"
      ]
    },
    {
      "cell_type": "code",
      "execution_count": null,
      "metadata": {
        "colab": {
          "base_uri": "https://localhost:8080/"
        },
        "id": "EJ46uHI2oc_h",
        "outputId": "3be66983-b3d8-438d-841b-c8e8d9a9705b"
      },
      "outputs": [
        {
          "name": "stdout",
          "output_type": "stream",
          "text": [
            "Label (: 14294 images\n",
            "Label ): 14355 images\n",
            "Label +: 25112 images\n",
            "Label -: 33997 images\n",
            "Label 0: 6914 images\n",
            "Label 1: 26520 images\n",
            "Label 2: 26141 images\n",
            "Label 3: 10909 images\n",
            "Label 4: 7396 images\n",
            "Label 5: 3545 images\n",
            "Label 6: 3118 images\n",
            "Label 7: 2909 images\n",
            "Label 8: 3068 images\n",
            "Label 9: 3737 images\n",
            "Label div: 868 images\n",
            "Label times: 3251 images\n"
          ]
        }
      ],
      "source": [
        "def count_images_per_label(root_folder):\n",
        "    label_counts = defaultdict(int)\n",
        "    for label in os.listdir(root_folder):\n",
        "        label_folder = os.path.join(root_folder, label)\n",
        "        if os.path.isdir(label_folder):\n",
        "            label_counts[label] = len(os.listdir(label_folder))\n",
        "    return label_counts\n",
        "\n",
        "# Dùng\n",
        "counts = count_images_per_label(r\"/content/data\")\n",
        "for label, count in sorted(counts.items()):\n",
        "    print(f\"Label {label}: {count} images\")\n"
      ]
    },
    {
      "cell_type": "code",
      "execution_count": null,
      "metadata": {
        "colab": {
          "base_uri": "https://localhost:8080/"
        },
        "id": "55HdL7MnoqQi",
        "outputId": "c56dccc5-b3fd-464a-ca36-658777aa5293"
      },
      "outputs": [
        {
          "name": "stdout",
          "output_type": "stream",
          "text": [
            "Found 143448 duplicates\n",
            "Duplicate pair:\n",
            " /content/data/-/-_7327.jpg\n",
            " /content/data/-/exp31940.jpg\n",
            "Duplicate pair:\n",
            " /content/data/-/-_7327.jpg\n",
            " /content/data/-/exp93750.jpg\n",
            "Duplicate pair:\n",
            " /content/data/-/-_7327.jpg\n",
            " /content/data/-/exp30988.jpg\n",
            "Duplicate pair:\n",
            " /content/data/-/-_7327.jpg\n",
            " /content/data/-/exp10077.jpg\n",
            "Duplicate pair:\n",
            " /content/data/-/-_7327.jpg\n",
            " /content/data/-/exp31834.jpg\n"
          ]
        }
      ],
      "source": [
        "\n",
        "def find_duplicate_images(folder):\n",
        "    hashes = {}\n",
        "    duplicates = []\n",
        "    for label in os.listdir(folder):\n",
        "        path = os.path.join(folder, label)\n",
        "        for fname in os.listdir(path):\n",
        "            img = cv2.imread(os.path.join(path, fname), cv2.IMREAD_GRAYSCALE)\n",
        "            if img is None: continue\n",
        "            h = hashlib.md5(img.tobytes()).hexdigest()\n",
        "            if h in hashes:\n",
        "                duplicates.append((hashes[h], os.path.join(path, fname)))\n",
        "            else:\n",
        "                hashes[h] = os.path.join(path, fname)\n",
        "    return duplicates\n",
        "dups = find_duplicate_images(\"/content/data\")\n",
        "print(f\"Found {len(dups)} duplicates\")\n",
        "for a, b in dups[:5]:\n",
        "    print(f\"Duplicate pair:\\n {a}\\n {b}\")\n"
      ]
    },
    {
      "cell_type": "code",
      "execution_count": null,
      "metadata": {
        "id": "jCPVDgn5rt0m"
      },
      "outputs": [],
      "source": [
        "for _, dup_path in dups:\n",
        "    os.remove(dup_path)\n"
      ]
    },
    {
      "cell_type": "code",
      "execution_count": null,
      "metadata": {
        "colab": {
          "base_uri": "https://localhost:8080/"
        },
        "id": "NjYCMIqHsp-r",
        "outputId": "22a42c79-06fa-496f-f6fc-dfbba86bddf3"
      },
      "outputs": [
        {
          "name": "stdout",
          "output_type": "stream",
          "text": [
            "Label (: 3985 images\n",
            "Label ): 3978 images\n",
            "Label +: 5443 images\n",
            "Label -: 6022 images\n",
            "Label 0: 1810 images\n",
            "Label 1: 6326 images\n",
            "Label 2: 6210 images\n",
            "Label 3: 2469 images\n",
            "Label 4: 1640 images\n",
            "Label 5: 1008 images\n",
            "Label 6: 812 images\n",
            "Label 7: 753 images\n",
            "Label 8: 731 images\n",
            "Label 9: 742 images\n",
            "Label div: 157 images\n",
            "Label times: 600 images\n"
          ]
        }
      ],
      "source": [
        "def count_images_per_label(root_folder):\n",
        "    label_counts = defaultdict(int)\n",
        "    for label in os.listdir(root_folder):\n",
        "        label_folder = os.path.join(root_folder, label)\n",
        "        if os.path.isdir(label_folder):\n",
        "            label_counts[label] = len(os.listdir(label_folder))\n",
        "    return label_counts\n",
        "\n",
        "counts = count_images_per_label(r\"/content/data\")\n",
        "for label, count in sorted(counts.items()):\n",
        "    print(f\"Label {label}: {count} images\")\n"
      ]
    },
    {
      "cell_type": "code",
      "execution_count": null,
      "metadata": {
        "colab": {
          "base_uri": "https://localhost:8080/",
          "height": 35
        },
        "id": "lVkEhCsXILWE",
        "outputId": "ca3e9669-4069-4bd2-d4d2-cef35c37faac"
      },
      "outputs": [
        {
          "data": {
            "application/vnd.google.colaboratory.intrinsic+json": {
              "type": "string"
            },
            "text/plain": [
              "'/content/data1.zip'"
            ]
          },
          "execution_count": 13,
          "metadata": {},
          "output_type": "execute_result"
        }
      ],
      "source": [
        "import shutil\n",
        "\n",
        "shutil.make_archive('data1', 'zip', 'data')"
      ]
    },
    {
      "cell_type": "code",
      "execution_count": null,
      "metadata": {
        "collapsed": true,
        "id": "wpEd2_Gxow-K"
      },
      "outputs": [],
      "source": [
        "def check_bad_images(folder):\n",
        "    bad_images = []\n",
        "    for label in os.listdir(folder):\n",
        "        path = os.path.join(folder, label)\n",
        "        for fname in os.listdir(path):\n",
        "            img_path = os.path.join(path, fname)\n",
        "            img = cv2.imread(img_path, cv2.IMREAD_GRAYSCALE)\n",
        "            if img is None: continue\n",
        "            h, w = img.shape\n",
        "            mean = np.mean(img)\n",
        "            if mean > 245 or mean < 10 or h < 10 or w < 10:\n",
        "                bad_images.append((img_path, mean, h, w))\n",
        "    return bad_images\n",
        "bad_images = check_bad_images(r\"/content/data\")\n",
        "print(f\"Found {len(bad_images)} bad images.\")\n",
        "\n",
        "for i, (path, mean, h, w) in enumerate(bad_images[:5]):\n",
        "    img = cv2.imread(path, cv2.IMREAD_GRAYSCALE)\n",
        "    plt.figure(figsize=(2, 2))\n",
        "    plt.imshow(img, cmap='gray')\n",
        "    plt.title(f\"{os.path.basename(path)}\\nmean={mean:.2f}, size={h}x{w}\")\n",
        "    plt.axis('off')\n",
        "    plt.show()\n"
      ]
    },
    {
      "cell_type": "code",
      "execution_count": null,
      "metadata": {
        "id": "QMFmHo0sX4zj"
      },
      "outputs": [],
      "source": [
        "from skimage.feature import hog\n",
        "def get_features(img):\n",
        "    return hog(img, pixels_per_cell=(8, 8), cells_per_block=(2, 2), visualize=False)\n",
        "\n",
        "def find_outliers(images):\n",
        "    features = [get_features(img) for img in images]\n",
        "    features = np.array(features)\n",
        "\n",
        "    mean_feat = np.mean(features, axis=0)\n",
        "    distances = np.linalg.norm(features - mean_feat, axis=1)\n",
        "\n",
        "    threshold = np.mean(distances) + 3 * np.std(distances)\n",
        "\n",
        "    outlier_indices = np.where(distances > threshold)[0]\n",
        "    return outlier_indices\n",
        "def load_images_in_label_folder(folder_path):\n",
        "    imgs = []\n",
        "    filenames = []\n",
        "    for f in os.listdir(folder_path):\n",
        "        path = os.path.join(folder_path, f)\n",
        "        img = cv2.imread(path, cv2.IMREAD_GRAYSCALE)\n",
        "        if img is not None:\n",
        "            img = cv2.resize(img, (45, 45))  # resize giống ảnh train\n",
        "            imgs.append(img)\n",
        "            filenames.append(f)\n",
        "    return imgs, filenames\n",
        "def show_outliers(images, filenames, indices, label, folder_path, save_file='outliers.txt'):\n",
        "    print(f\"Label: {label} - Số outliers: {len(indices)}\")\n",
        "\n",
        "    with open(save_file, 'a') as f:\n",
        "        for idx in indices:\n",
        "            plt.imshow(images[idx], cmap='gray')\n",
        "            plt.title(f\"{filenames[idx]}\")\n",
        "            plt.axis('off')\n",
        "            plt.show()\n",
        "\n",
        "            path = os.path.join(folder_path, filenames[idx])\n",
        "            f.write(path + '\\n')\n",
        "            print(f\"Đã lưu: {path}\")\n",
        "\n"
      ]
    },
    {
      "cell_type": "code",
      "execution_count": null,
      "metadata": {
        "colab": {
          "base_uri": "https://localhost:8080/",
          "height": 1000
        },
        "collapsed": true,
        "id": "BalYHBJ5WV9m",
        "outputId": "22461658-5c26-43e1-9c52-3a48fe8263ca"
      },
      "outputs": [
        {
          "name": "stdout",
          "output_type": "stream",
          "text": [
            "Label: 3 - Số outliers: 16\n"
          ]
        },
        {
          "data": {
            "image/png": "[encoded data removed]",
            "text/plain": [
              "<Figure size 640x480 with 1 Axes>"
            ]
          },
          "metadata": {},
          "output_type": "display_data"
        },
        {
          "name": "stdout",
          "output_type": "stream",
          "text": [
            "Đã lưu: /content/data1_0+-()/0/0_101685.jpg\n"
          ]
        },
        {
          "data": {
            "image/png": "[encoded data removed]",
            "text/plain": [
              "<Figure size 640x480 with 1 Axes>"
            ]
          },
          "metadata": {},
          "output_type": "display_data"
        },
        {
          "name": "stdout",
          "output_type": "stream",
          "text": [
            "Đã lưu: /content/data1_0+-()/0/0_36836.jpg\n"
          ]
        },
        {
          "data": {
            "image/png": "[encoded data removed]",
            "text/plain": [
              "<Figure size 640x480 with 1 Axes>"
            ]
          },
          "metadata": {},
          "output_type": "display_data"
        },
        {
          "name": "stdout",
          "output_type": "stream",
          "text": [
            "Đã lưu: /content/data1_0+-()/0/0_101408.jpg\n"
          ]
        },
        {
          "data": {
            "image/png": "[encoded data removed]",
            "text/plain": [
              "<Figure size 640x480 with 1 Axes>"
            ]
          },
          "metadata": {},
          "output_type": "display_data"
        },
        {
          "name": "stdout",
          "output_type": "stream",
          "text": [
            "Đã lưu: /content/data1_0+-()/0/exp88631.jpg\n"
          ]
        },
        {
          "data": {
            "image/png": "[encoded data removed]",
            "text/plain": [
              "<Figure size 640x480 with 1 Axes>"
            ]
          },
          "metadata": {},
          "output_type": "display_data"
        },
        {
          "name": "stdout",
          "output_type": "stream",
          "text": [
            "Đã lưu: /content/data1_0+-()/0/exp71324.jpg\n"
          ]
        },
        {
          "data": {
            "image/png": "[encoded data removed]",
            "text/plain": [
              "<Figure size 640x480 with 1 Axes>"
            ]
          },
          "metadata": {},
          "output_type": "display_data"
        },
        {
          "name": "stdout",
          "output_type": "stream",
          "text": [
            "Đã lưu: /content/data1_0+-()/0/0_111315.jpg\n"
          ]
        },
        {
          "data": {
            "image/png": "[encoded data removed]",
            "text/plain": [
              "<Figure size 640x480 with 1 Axes>"
            ]
          },
          "metadata": {},
          "output_type": "display_data"
        },
        {
          "name": "stdout",
          "output_type": "stream",
          "text": [
            "Đã lưu: /content/data1_0+-()/0/exp73708.jpg\n"
          ]
        },
        {
          "data": {
            "image/png": "[encoded data removed]",
            "text/plain": [
              "<Figure size 640x480 with 1 Axes>"
            ]
          },
          "metadata": {},
          "output_type": "display_data"
        },
        {
          "name": "stdout",
          "output_type": "stream",
          "text": [
            "Đã lưu: /content/data1_0+-()/0/0_68300.jpg\n"
          ]
        },
        {
          "data": {
            "image/png": "[encoded data removed]",
            "text/plain": [
              "<Figure size 640x480 with 1 Axes>"
            ]
          },
          "metadata": {},
          "output_type": "display_data"
        },
        {
          "name": "stdout",
          "output_type": "stream",
          "text": [
            "Đã lưu: /content/data1_0+-()/0/exp71320.jpg\n"
          ]
        },
        {
          "data": {
            "image/png": "[encoded data removed]",
            "text/plain": [
              "<Figure size 640x480 with 1 Axes>"
            ]
          },
          "metadata": {},
          "output_type": "display_data"
        },
        {
          "name": "stdout",
          "output_type": "stream",
          "text": [
            "Đã lưu: /content/data1_0+-()/0/exp105818.jpg\n"
          ]
        },
        {
          "data": {
            "image/png": "[encoded data removed]",
            "text/plain": [
              "<Figure size 640x480 with 1 Axes>"
            ]
          },
          "metadata": {},
          "output_type": "display_data"
        },
        {
          "name": "stdout",
          "output_type": "stream",
          "text": [
            "Đã lưu: /content/data1_0+-()/0/exp31755.jpg\n"
          ]
        },
        {
          "data": {
            "image/png": "[encoded data removed]",
            "text/plain": [
              "<Figure size 640x480 with 1 Axes>"
            ]
          },
          "metadata": {},
          "output_type": "display_data"
        },
        {
          "name": "stdout",
          "output_type": "stream",
          "text": [
            "Đã lưu: /content/data1_0+-()/0/exp40568.jpg\n"
          ]
        },
        {
          "data": {
            "image/png": "[encoded data removed]",
            "text/plain": [
              "<Figure size 640x480 with 1 Axes>"
            ]
          },
          "metadata": {},
          "output_type": "display_data"
        },
        {
          "name": "stdout",
          "output_type": "stream",
          "text": [
            "Đã lưu: /content/data1_0+-()/0/exp39066.jpg\n"
          ]
        },
        {
          "data": {
            "image/png": "[encoded data removed]",
            "text/plain": [
              "<Figure size 640x480 with 1 Axes>"
            ]
          },
          "metadata": {},
          "output_type": "display_data"
        },
        {
          "name": "stdout",
          "output_type": "stream",
          "text": [
            "Đã lưu: /content/data1_0+-()/0/exp86914.jpg\n"
          ]
        },
        {
          "data": {
            "image/png": "[encoded data removed]",
            "text/plain": [
              "<Figure size 640x480 with 1 Axes>"
            ]
          },
          "metadata": {},
          "output_type": "display_data"
        },
        {
          "name": "stdout",
          "output_type": "stream",
          "text": [
            "Đã lưu: /content/data1_0+-()/0/exp94848.jpg\n"
          ]
        },
        {
          "data": {
            "image/png": "[encoded data removed]",
            "text/plain": [
              "<Figure size 640x480 with 1 Axes>"
            ]
          },
          "metadata": {},
          "output_type": "display_data"
        },
        {
          "name": "stdout",
          "output_type": "stream",
          "text": [
            "Đã lưu: /content/data1_0+-()/0/exp97209.jpg\n"
          ]
        }
      ],
      "source": [
        "imgs, filenames = load_images_in_label_folder(r\"/content/data1_0+-()/0\")\n",
        "outliers = find_outliers(imgs)\n",
        "show_outliers(imgs, filenames, outliers, label='0', folder_path=\"/content/data1_0+-()/0\")"
      ]
    },
    {
      "cell_type": "code",
      "execution_count": null,
      "metadata": {
        "colab": {
          "base_uri": "https://localhost:8080/"
        },
        "collapsed": true,
        "id": "naeTfQ2odZqS",
        "outputId": "1e5c583b-2ceb-4683-a91a-be78434ce4d5"
      },
      "outputs": [
        {
          "name": "stdout",
          "output_type": "stream",
          "text": [
            "Đã xóa: /content/data1_0+-()/0/exp84295.jpg\n",
            "Đã xóa: /content/data1_0+-()/0/exp61183.jpg\n",
            "Đã xóa: /content/data1_0+-()/0/exp31809.jpg\n",
            "Đã xóa: /content/data1_0+-()/0/exp53871.jpg\n",
            "Đã xóa: /content/data1_0+-()/0/exp91889.jpg\n",
            "Đã xóa: /content/data1_0+-()/0/exp29459.jpg\n",
            "Đã xóa: /content/data1_0+-()/0/exp94217.jpg\n",
            "Đã xóa: /content/data1_0+-()/0/0_101685.jpg\n",
            "Đã xóa: /content/data1_0+-()/0/0_36836.jpg\n",
            "Đã xóa: /content/data1_0+-()/0/0_4095.jpg\n",
            "Đã xóa: /content/data1_0+-()/0/0_101408.jpg\n",
            "Đã xóa: /content/data1_0+-()/0/exp994.jpg\n",
            "Đã xóa: /content/data1_0+-()/0/exp31813.jpg\n",
            "Đã xóa: /content/data1_0+-()/0/exp60539.jpg\n",
            "Đã xóa: /content/data1_0+-()/0/exp88631.jpg\n",
            "Đã xóa: /content/data1_0+-()/0/exp94385.jpg\n",
            "Đã xóa: /content/data1_0+-()/0/exp96353.jpg\n",
            "Đã xóa: /content/data1_0+-()/0/0_7156.jpg\n",
            "Đã xóa: /content/data1_0+-()/0/0_11143.jpg\n",
            "Đã xóa: /content/data1_0+-()/0/exp71324.jpg\n",
            "Đã xóa: /content/data1_0+-()/0/exp6416.jpg\n",
            "Đã xóa: /content/data1_0+-()/0/0_111315.jpg\n",
            "Đã xóa: /content/data1_0+-()/0/exp61694.jpg\n",
            "Đã xóa: /content/data1_0+-()/0/exp82699.jpg\n",
            "Đã xóa: /content/data1_0+-()/0/exp9009.jpg\n",
            "Đã xóa: /content/data1_0+-()/0/exp105853.jpg\n",
            "Đã xóa: /content/data1_0+-()/0/exp18964.jpg\n",
            "Đã xóa: /content/data1_0+-()/0/0_95204.jpg\n",
            "Đã xóa: /content/data1_0+-()/0/exp73708.jpg\n",
            "Đã xóa: /content/data1_0+-()/0/0_98351.jpg\n",
            "Đã xóa: /content/data1_0+-()/0/0_68300.jpg\n",
            "Đã xóa: /content/data1_0+-()/0/0_96267.jpg\n",
            "Đã xóa: /content/data1_0+-()/0/0_99837.jpg\n",
            "Đã xóa: /content/data1_0+-()/0/exp17314.jpg\n",
            "Đã xóa: /content/data1_0+-()/0/exp85025.jpg\n",
            "Đã xóa: /content/data1_0+-()/0/exp29348.jpg\n",
            "Đã xóa: /content/data1_0+-()/0/exp71320.jpg\n",
            "Đã xóa: /content/data1_0+-()/0/exp105818.jpg\n",
            "Đã xóa: /content/data1_0+-()/0/exp58782.jpg\n",
            "Đã xóa: /content/data1_0+-()/0/exp31755.jpg\n",
            "Đã xóa: /content/data1_0+-()/0/exp60909.jpg\n",
            "Đã xóa: /content/data1_0+-()/0/exp96001.jpg\n",
            "Đã xóa: /content/data1_0+-()/0/exp40568.jpg\n",
            "Đã xóa: /content/data1_0+-()/0/0_98775.jpg\n",
            "Đã xóa: /content/data1_0+-()/0/exp39066.jpg\n",
            "Đã xóa: /content/data1_0+-()/0/exp104978.jpg\n",
            "Đã xóa: /content/data1_0+-()/0/exp57874.jpg\n",
            "Đã xóa: /content/data1_0+-()/0/exp86914.jpg\n",
            "Đã xóa: /content/data1_0+-()/0/exp41875.jpg\n",
            "Đã xóa: /content/data1_0+-()/0/exp39303.jpg\n",
            "Đã xóa: /content/data1_0+-()/0/exp85622.jpg\n",
            "Đã xóa: /content/data1_0+-()/0/exp88431.jpg\n",
            "Đã xóa: /content/data1_0+-()/0/exp53304.jpg\n",
            "Đã xóa: /content/data1_0+-()/0/exp96020.jpg\n",
            "Đã xóa: /content/data1_0+-()/0/exp2577.jpg\n",
            "Đã xóa: /content/data1_0+-()/0/exp43751.jpg\n",
            "Đã xóa: /content/data1_0+-()/0/exp94848.jpg\n",
            "Đã xóa: /content/data1_0+-()/0/exp84150.jpg\n",
            "Đã xóa: /content/data1_0+-()/0/exp4144.jpg\n",
            "Đã xóa: /content/data1_0+-()/0/exp95665.jpg\n",
            "Đã xóa: /content/data1_0+-()/0/exp60683.jpg\n",
            "Đã xóa: /content/data1_0+-()/0/exp97209.jpg\n",
            "Đã xóa: /content/data1_0+-()/0/exp97187.jpg\n",
            "Đã xóa: /content/data1_0+-()/0/exp84048.jpg\n",
            "Đã xóa: /content/data1_0+-()/0/0_95281.jpg\n",
            "Đã xóa: /content/data1_0+-()/0/exp104996.jpg\n",
            "Đã xóa: /content/data1_0+-()/0/exp85465.jpg\n",
            "Đã xóa: /content/data1_0+-()/0/exp61328.jpg\n",
            "Đã xóa: /content/data1_0+-()/0/exp97435.jpg\n",
            "Đã xóa: /content/data1_0+-()/0/0_36997.jpg\n",
            "Đã xóa: /content/data1_0+-()/0/0_112214.jpg\n",
            "Không tìm thấy: /content/data1_0+-()/0/0_101685.jpg\n",
            "Không tìm thấy: /content/data1_0+-()/0/0_36836.jpg\n",
            "Không tìm thấy: /content/data1_0+-()/0/0_101408.jpg\n",
            "Không tìm thấy: /content/data1_0+-()/0/exp88631.jpg\n",
            "Không tìm thấy: /content/data1_0+-()/0/exp71324.jpg\n",
            "Không tìm thấy: /content/data1_0+-()/0/0_111315.jpg\n",
            "Không tìm thấy: /content/data1_0+-()/0/exp73708.jpg\n",
            "Không tìm thấy: /content/data1_0+-()/0/0_68300.jpg\n",
            "Không tìm thấy: /content/data1_0+-()/0/exp71320.jpg\n",
            "Không tìm thấy: /content/data1_0+-()/0/exp105818.jpg\n",
            "Không tìm thấy: /content/data1_0+-()/0/exp31755.jpg\n",
            "Không tìm thấy: /content/data1_0+-()/0/exp40568.jpg\n",
            "Không tìm thấy: /content/data1_0+-()/0/exp39066.jpg\n",
            "Không tìm thấy: /content/data1_0+-()/0/exp86914.jpg\n",
            "Không tìm thấy: /content/data1_0+-()/0/exp94848.jpg\n",
            "Không tìm thấy: /content/data1_0+-()/0/exp97209.jpg\n"
          ]
        }
      ],
      "source": [
        "def delete_outliers_from_file(file_path='outliers.txt'):\n",
        "    with open(file_path, 'r') as f:\n",
        "        paths = [line.strip() for line in f.readlines()]\n",
        "\n",
        "    for path in paths:\n",
        "        if os.path.exists(path):\n",
        "            os.remove(path)\n",
        "            print(f\"Đã xóa: {path}\")\n",
        "        else:\n",
        "            print(f\"Không tìm thấy: {path}\")\n",
        "delete_outliers_from_file()"
      ]
    },
    {
      "cell_type": "code",
      "execution_count": null,
      "metadata": {
        "colab": {
          "base_uri": "https://localhost:8080/"
        },
        "id": "Ekt2lMB7hDt8",
        "outputId": "35dd9896-dab6-477f-c9f5-a8d236f8dcc6"
      },
      "outputs": [
        {
          "name": "stdout",
          "output_type": "stream",
          "text": [
            "Label (: 3966 images\n",
            "Label ): 3959 images\n",
            "Label +: 5355 images\n",
            "Label -: 5826 images\n",
            "Label 0: 1739 images\n",
            "Label 1: 6319 images\n",
            "Label 2: 6190 images\n",
            "Label 3: 2469 images\n",
            "Label 4: 1640 images\n",
            "Label 5: 1006 images\n",
            "Label 6: 812 images\n",
            "Label 7: 749 images\n",
            "Label 8: 731 images\n",
            "Label 9: 742 images\n",
            "Label div: 157 images\n",
            "Label times: 599 images\n"
          ]
        }
      ],
      "source": [
        "def count_images_per_label(root_folder):\n",
        "    label_counts = defaultdict(int)\n",
        "    for label in os.listdir(root_folder):\n",
        "        label_folder = os.path.join(root_folder, label)\n",
        "        if os.path.isdir(label_folder):\n",
        "            label_counts[label] = len(os.listdir(label_folder))\n",
        "    return label_counts\n",
        "\n",
        "# Dùng\n",
        "counts = count_images_per_label(r\"/content/data1_0+-()\")\n",
        "for label, count in sorted(counts.items()):\n",
        "    print(f\"Label {label}: {count} images\")\n"
      ]
    },
    {
      "cell_type": "code",
      "execution_count": null,
      "metadata": {
        "colab": {
          "base_uri": "https://localhost:8080/",
          "height": 35
        },
        "id": "Td8epIeIhUih",
        "outputId": "b8c1e6a4-3cf2-4f68-a4d6-1feb464cf503"
      },
      "outputs": [
        {
          "data": {
            "application/vnd.google.colaboratory.intrinsic+json": {
              "type": "string"
            },
            "text/plain": [
              "'/content/data_cleaned.zip'"
            ]
          },
          "execution_count": 79,
          "metadata": {},
          "output_type": "execute_result"
        }
      ],
      "source": [
        "import shutil\n",
        "\n",
        "shutil.make_archive('data_cleaned', 'zip', 'data1_0+-()')"
      ]
    },
    {
      "cell_type": "code",
      "execution_count": null,
      "metadata": {
        "cellView": "form",
        "id": "D34sMS8QuhXz"
      },
      "outputs": [],
      "source": [
        "# @title Default title text\n",
        "# json_file = open(r\"/content/model_final.json\", 'r')\n",
        "# loaded_model_json = json_file.read()\n",
        "# json_file.close()\n",
        "# loaded_model = model_from_json(loaded_model_json)\n",
        "\n",
        "# loaded_model.load_weights(r\"/content/model_final.weights.h5\")\n",
        "# # loaded_model = open(\"trained_model.p\", \"rb\")\n",
        "# model = loaded_model\n",
        "# def find_suspect_images(model, data_folder):\n",
        "#     wrong_preds = []\n",
        "\n",
        "#     for label in sorted(os.listdir(data_folder)):\n",
        "#         folder = os.path.join(data_folder, label)\n",
        "#         if not os.path.isdir(folder): continue\n",
        "\n",
        "#         for fname in os.listdir(folder):\n",
        "#             path = os.path.join(folder, fname)\n",
        "#             img = cv2.imread(path, cv2.IMREAD_GRAYSCALE)\n",
        "#             if img is None: continue\n",
        "\n",
        "#             img = ~img  # đảo màu nếu cần\n",
        "#             img = cv2.resize(img, (45, 45))\n",
        "#             img = img / 255.0\n",
        "#             img = np.expand_dims(img, axis=-1)  # shape (45, 45, 1)\n",
        "#             img = np.expand_dims(img, axis=0)   # shape (1, 45, 45, 1)\n",
        "\n",
        "#             pred = model.predict(img)\n",
        "#             pred_label = str(np.argmax(pred))\n",
        "\n",
        "#             if pred_label != label:\n",
        "#                 wrong_preds.append((path, label, pred_label))\n",
        "\n",
        "#     return wrong_preds\n"
      ]
    },
    {
      "cell_type": "code",
      "execution_count": null,
      "metadata": {
        "cellView": "form",
        "colab": {
          "base_uri": "https://localhost:8080/"
        },
        "collapsed": true,
        "id": "gDosSEivv85z",
        "outputId": "ac5342d0-6a56-4d34-857b-6b3ab02dc273"
      },
      "outputs": [],
      "source": [
        "# @title Default title text\n",
        "# suspects = find_suspect_images(model, r\"/content/data\")\n",
        "\n",
        "# print(\" Ảnh nghi ngờ bị sai nhãn:\")\n",
        "# for path, actual, predicted in suspects:\n",
        "#     print(f\"Ảnh: {path} | Nhãn gốc: {actual} | Model đoán: {predicted}\")"
      ]
    },
    {
      "cell_type": "code",
      "execution_count": null,
      "metadata": {
        "cellView": "form",
        "id": "kVHsH8wJyDip"
      },
      "outputs": [],
      "source": [
        "# @title Default title text\n",
        "# import matplotlib.pyplot as plt\n",
        "\n",
        "# for path, actual, predicted in suspects:\n",
        "#     img = cv2.imread(path, cv2.IMREAD_GRAYSCALE)\n",
        "#     plt.imshow(img, cmap='gray')\n",
        "#     plt.title(f\"Gốc: {actual} | Dự đoán: {predicted}\")\n",
        "#     plt.axis('off')\n",
        "#     plt.show()\n",
        "\n",
        "#     ans = input(\"Xoá ảnh này? (y/n): \").strip().lower()\n",
        "#     if ans == 'y':\n",
        "#         os.remove(path)\n",
        "#         print(f\"Đã xoá {path}\")\n"
      ]
    },
    {
      "cell_type": "code",
      "execution_count": null,
      "metadata": {
        "colab": {
          "base_uri": "https://localhost:8080/",
          "height": 428
        },
        "id": "yp6Lv9Kl5tPq",
        "outputId": "5a43e77e-33f3-4042-bf68-5c40ae0a3351"
      },
      "outputs": [
        {
          "data": {
            "image/png": "[encoded data removed]",
            "text/plain": [
              "<Figure size 640x480 with 1 Axes>"
            ]
          },
          "metadata": {},
          "output_type": "display_data"
        }
      ],
      "source": [
        "img = cv2.imread(r\"/content/data1_0+-()/8/8_100076.jpg\", cv2.IMREAD_GRAYSCALE)\n",
        "\n",
        "if img is not None:\n",
        "\n",
        "\n",
        "      thresh1 = cv2.adaptiveThreshold(\n",
        "          img, 255,\n",
        "          cv2.ADAPTIVE_THRESH_MEAN_C,\n",
        "          cv2.THRESH_BINARY_INV,\n",
        "          blockSize=23,\n",
        "          C=8\n",
        "      )\n",
        "\n",
        "      kernel_dilate = cv2.getStructuringElement(cv2.MORPH_CROSS, (2, 2))\n",
        "      kernel_close = cv2.getStructuringElement(cv2.MORPH_ELLIPSE, (2,2))\n",
        "\n",
        "      dilation = cv2.dilate(thresh1, kernel_dilate, iterations=1)\n",
        "      closing = cv2.morphologyEx(dilation, cv2.MORPH_CLOSE, kernel_close, iterations=1)\n",
        "\n",
        "      thresh = cv2.ximgproc.thinning(closing)\n",
        "      ctrs, _ = cv2.findContours(thresh, cv2.RETR_EXTERNAL, cv2.CHAIN_APPROX_SIMPLE)\n",
        "      cnt = sorted(ctrs, key=lambda ctr: cv2.boundingRect(ctr)[0])\n",
        "      maxi = 0\n",
        "      for c in cnt:\n",
        "          x, y, w, h = cv2.boundingRect(c)\n",
        "          if w * h > maxi:\n",
        "              maxi = w * h\n",
        "              x_max, y_max, w_max, h_max = x, y, w, h\n",
        "\n",
        "      pad = 5\n",
        "      height, width = img.shape\n",
        "      x1 = max(0, x_max - pad)\n",
        "      y1 = max(0, y_max - pad)\n",
        "      x2 = min(width, x_max + w_max + pad)\n",
        "      y2 = min(height, y_max + h_max + pad)\n",
        "\n",
        "      im_crop = thresh[y1:y2, x1:x2]\n",
        "      im_resize = cv2.resize(im_crop, (45, 45))\n",
        "      plt.imshow(thresh, cmap='gray')\n",
        "      plt.title(f\"5\")\n",
        "      plt.axis('off')\n",
        "      plt.show()"
      ]
    },
    {
      "cell_type": "code",
      "execution_count": null,
      "metadata": {
        "id": "7gLdz41cQAFp"
      },
      "outputs": [],
      "source": [
        "import cv2.ximgproc\n",
        "\n",
        "def resize_with_padding(image, target_size=(45, 45), pad_color=0):\n",
        "    h, w = image.shape[:2]\n",
        "    scale = min(target_size[0] / h, target_size[1] / w)\n",
        "    new_w, new_h = int(w * scale), int(h * scale)\n",
        "    resized = cv2.resize(image, (new_w, new_h), interpolation=cv2.INTER_AREA)\n",
        "\n",
        "    pad_w = (target_size[1] - new_w) // 2\n",
        "    pad_h = (target_size[0] - new_h) // 2\n",
        "\n",
        "    padded = cv2.copyMakeBorder(resized, pad_h, target_size[0] - new_h - pad_h,\n",
        "                                pad_w, target_size[1] - new_w - pad_w,\n",
        "                                cv2.BORDER_CONSTANT, value=pad_color)\n",
        "    return padded\n",
        "def load_images_from_folder(folder, label):\n",
        "    data = []\n",
        "    for filename in os.listdir(folder):\n",
        "        img = cv2.imread(os.path.join(folder, filename), cv2.IMREAD_GRAYSCALE)\n",
        "        if img is None:\n",
        "            print(f\"Không thể đọc ảnh: {os.path.join(folder, filename)}\")\n",
        "            continue\n",
        "        thresh1 = cv2.adaptiveThreshold(\n",
        "            img, 255,\n",
        "            cv2.ADAPTIVE_THRESH_MEAN_C,\n",
        "            cv2.THRESH_BINARY_INV,\n",
        "            blockSize=23,\n",
        "            C=8\n",
        "        )\n",
        "\n",
        "        kernel_dilate = cv2.getStructuringElement(cv2.MORPH_CROSS, (2, 2))\n",
        "        kernel_close = cv2.getStructuringElement(cv2.MORPH_ELLIPSE, (2,2))\n",
        "\n",
        "        dilation = cv2.dilate(thresh1, kernel_dilate, iterations=1)\n",
        "        closing = cv2.morphologyEx(dilation, cv2.MORPH_CLOSE, kernel_close, iterations=1)\n",
        "\n",
        "        thresh = cv2.ximgproc.thinning(closing)\n",
        "        ctrs, _ = cv2.findContours(thresh, cv2.RETR_EXTERNAL, cv2.CHAIN_APPROX_SIMPLE)\n",
        "        cnt = sorted(ctrs, key=lambda ctr: cv2.boundingRect(ctr)[0])\n",
        "        maxi = 0\n",
        "        for c in cnt:\n",
        "            x, y, w, h = cv2.boundingRect(c)\n",
        "            if w * h > maxi:\n",
        "                maxi = w * h\n",
        "                x_max, y_max, w_max, h_max = x, y, w, h\n",
        "\n",
        "        pad = 5\n",
        "        height, width = img.shape\n",
        "        x1 = max(0, x_max - pad)\n",
        "        y1 = max(0, y_max - pad)\n",
        "        x2 = min(width, x_max + w_max + pad)\n",
        "        y2 = min(height, y_max + h_max + pad)\n",
        "\n",
        "        im_crop = thresh[y1:y2, x1:x2]\n",
        "        im_resize = resize_with_padding(im_crop, (45, 45))\n",
        "        im_resize = im_resize / 255.0\n",
        "        im_resize = np.expand_dims(im_resize, axis=-1)  # (45, 45, 1)\n",
        "\n",
        "        data.append([im_resize, int(label)])\n",
        "    return data"
      ]
    },
    {
      "cell_type": "code",
      "execution_count": null,
      "metadata": {
        "id": "cuTp013zQEAT"
      },
      "outputs": [],
      "source": [
        "import random\n",
        "def load_and_split(folder, label):\n",
        "    data = load_images_from_folder(folder, label)\n",
        "    random.shuffle(data)\n",
        "    split_idx = int(0.8 * len(data))\n",
        "    return data[:split_idx], data[split_idx:]\n",
        "\n",
        "train_data, test_data = [], []"
      ]
    },
    {
      "cell_type": "code",
      "execution_count": null,
      "metadata": {
        "id": "PPc0c9_EQFHj"
      },
      "outputs": [],
      "source": [
        "for i in range(10):\n",
        "    folder_path = f\"/content/data1_0+-()/{i}\"\n",
        "    train, test = load_and_split(folder_path, str(i))\n",
        "    train_data.extend(train)\n",
        "    test_data.extend(test)"
      ]
    },
    {
      "cell_type": "code",
      "execution_count": null,
      "metadata": {
        "id": "9FWV7N3SQGzP"
      },
      "outputs": [],
      "source": [
        "symbols = {\n",
        "    '+': '10', '-': '11', 'times': '12',\n",
        "    'div': '13', '(': '14', ')': '15'\n",
        "}\n",
        "\n",
        "for sym, label in symbols.items():\n",
        "    train, test = load_and_split(f\"/content/data1_0+-()/{sym}\", label)\n",
        "    train_data.extend(train)\n",
        "    test_data.extend(test)"
      ]
    },
    {
      "cell_type": "code",
      "execution_count": null,
      "metadata": {
        "colab": {
          "base_uri": "https://localhost:8080/"
        },
        "id": "XjhuEgthos9j",
        "outputId": "b3fc4bf5-ef4d-4623-c102-3b2aab7cd581"
      },
      "outputs": [
        {
          "name": "stdout",
          "output_type": "stream",
          "text": [
            "Train label distribution:\n",
            "Label 0: 1391 samples\n",
            "Label 1: 5055 samples\n",
            "Label 2: 4952 samples\n",
            "Label 3: 1975 samples\n",
            "Label 4: 1312 samples\n",
            "Label 5: 804 samples\n",
            "Label 6: 649 samples\n",
            "Label 7: 599 samples\n",
            "Label 8: 584 samples\n",
            "Label 9: 593 samples\n",
            "Label 10: 4284 samples\n",
            "Label 11: 4660 samples\n",
            "Label 12: 479 samples\n",
            "Label 13: 125 samples\n",
            "Label 14: 3172 samples\n",
            "Label 15: 3167 samples\n",
            "\n",
            "Test label distribution:\n",
            "Label 0: 348 samples\n",
            "Label 1: 1264 samples\n",
            "Label 2: 1238 samples\n",
            "Label 3: 494 samples\n",
            "Label 4: 328 samples\n",
            "Label 5: 202 samples\n",
            "Label 6: 163 samples\n",
            "Label 7: 150 samples\n",
            "Label 8: 147 samples\n",
            "Label 9: 149 samples\n",
            "Label 10: 1071 samples\n",
            "Label 11: 1166 samples\n",
            "Label 12: 120 samples\n",
            "Label 13: 32 samples\n",
            "Label 14: 794 samples\n",
            "Label 15: 792 samples\n"
          ]
        }
      ],
      "source": [
        "from collections import Counter\n",
        "\n",
        "\n",
        "train_labels = [label for _, label in train_data]\n",
        "test_labels = [label for _, label in test_data]\n",
        "\n",
        "train_counts = Counter(train_labels)\n",
        "test_counts = Counter(test_labels)\n",
        "\n",
        "print(\"Train label distribution:\")\n",
        "for label, count in sorted(train_counts.items()):\n",
        "    print(f\"Label {label}: {count} samples\")\n",
        "\n",
        "print(\"\\nTest label distribution:\")\n",
        "for label, count in sorted(test_counts.items()):\n",
        "    print(f\"Label {label}: {count} samples\")\n"
      ]
    },
    {
      "cell_type": "code",
      "execution_count": null,
      "metadata": {
        "colab": {
          "base_uri": "https://localhost:8080/",
          "height": 803
        },
        "id": "u0_skoJGouji",
        "outputId": "8c40858a-5209-43ee-c690-45240e7fece3"
      },
      "outputs": [
        {
          "data": {
            "image/png": "[encoded data removed]",
            "text/plain": [
              "<Figure size 800x400 with 1 Axes>"
            ]
          },
          "metadata": {},
          "output_type": "display_data"
        },
        {
          "data": {
            "image/png": "[encoded data removed]",
            "text/plain": [
              "<Figure size 800x400 with 1 Axes>"
            ]
          },
          "metadata": {},
          "output_type": "display_data"
        }
      ],
      "source": [
        "import matplotlib.pyplot as plt\n",
        "\n",
        "def plot_distribution(counter, title):\n",
        "    labels = list(counter.keys())\n",
        "    counts = list(counter.values())\n",
        "    plt.figure(figsize=(8, 4))\n",
        "    plt.bar(labels, counts, color='skyblue')\n",
        "    plt.title(title)\n",
        "    plt.xlabel(\"Label\")\n",
        "    plt.ylabel(\"Count\")\n",
        "    plt.grid(True)\n",
        "    plt.show()\n",
        "\n",
        "plot_distribution(train_counts, \"Train Label Distribution\")\n",
        "plot_distribution(test_counts, \"Test Label Distribution\")\n"
      ]
    },
    {
      "cell_type": "code",
      "execution_count": null,
      "metadata": {
        "colab": {
          "base_uri": "https://localhost:8080/"
        },
        "id": "D6YzZyymQMfw",
        "outputId": "5f5ec30b-60dd-4893-baf1-862ef5a11a63"
      },
      "outputs": [
        {
          "name": "stdout",
          "output_type": "stream",
          "text": [
            "Đã lưu dữ liệu: X_train, y_train, X_test, y_test\n",
            "X_train shape: (33801, 45, 45, 1)\n"
          ]
        }
      ],
      "source": [
        "X_train = np.array([x[0] for x in train_data])  # (num_samples, 45, 45, 1)\n",
        "y_train = np.array([x[1] for x in train_data])  # (num_samples,)\n",
        "\n",
        "X_test = np.array([x[0] for x in test_data])\n",
        "y_test = np.array([x[1] for x in test_data])\n",
        "\n",
        "\n",
        "np.save(\"X_train.npy\", X_train)\n",
        "np.save(\"y_train.npy\", y_train)\n",
        "np.save(\"X_test.npy\", X_test)\n",
        "np.save(\"y_test.npy\", y_test)\n",
        "\n",
        "print(\"Đã lưu dữ liệu: X_train, y_train, X_test, y_test\")\n",
        "print(\"X_train shape:\", X_train.shape)"
      ]
    }
  ],
  "metadata": {
    "colab": {
      "provenance": []
    },
    "kernelspec": {
      "display_name": "Python 3",
      "name": "python3"
    },
    "language_info": {
      "name": "python"
    }
  },
  "nbformat": 4,
  "nbformat_minor": 0
}
